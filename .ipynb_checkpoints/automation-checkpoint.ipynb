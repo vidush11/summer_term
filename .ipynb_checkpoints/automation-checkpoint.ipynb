{
 "cells": [
  {
   "cell_type": "code",
   "execution_count": 2,
   "id": "32e99816-6834-478d-8871-c857cc73c3fe",
   "metadata": {},
   "outputs": [],
   "source": [
    "import pyautogui, time\n",
    "import numpy as np\n",
    "from PIL import Image\n",
    "# import sys\n",
    "# sys.platform=\"_\""
   ]
  },
  {
   "cell_type": "code",
   "execution_count": 8,
   "id": "7077033f-f386-42bb-8db9-0ed8495e4dcd",
   "metadata": {},
   "outputs": [
    {
     "name": "stdout",
     "output_type": "stream",
     "text": [
      "Size(width=1512, height=982)\n",
      "1512\n",
      "1512\n",
      "982\n"
     ]
    }
   ],
   "source": [
    "si=pyautogui.size()\n",
    "print(si)\n",
    "print(si[0])\n",
    "print(si.width) #named tuple\n",
    "print(si.height)"
   ]
  },
  {
   "cell_type": "markdown",
   "id": "2d612bd4-249c-4290-a105-24abff310bd9",
   "metadata": {},
   "source": [
    "<font style=\"font-family:'roman'; font-size:15px\" color='green'>Named tuples can also access attributes by name.</font>\n",
    "\n"
   ]
  },
  {
   "cell_type": "code",
   "execution_count": 24,
   "id": "05085011-2f91-4847-a738-8a380a7f711d",
   "metadata": {},
   "outputs": [],
   "source": [
    "pyautogui.moveTo(100,200,duration=1)\n",
    "pyautogui.moveTo(200,200)\n",
    "pyautogui.moveTo(200,300)\n",
    "pyautogui.moveTo(100,300)\n",
    "pyautogui.moveTo(100,200,duration=1)\n"
   ]
  },
  {
   "cell_type": "markdown",
   "id": "a4541b48-efc3-41c8-8ebf-e913da392c43",
   "metadata": {},
   "source": [
    "<font style=\"font-family:'roman'; font-size:15px\" color='green'>moveTo is absolute whereas move is relative</font>\n",
    "\n"
   ]
  },
  {
   "cell_type": "code",
   "execution_count": 61,
   "id": "9ed51440-83a5-4a77-a87d-2c9379243684",
   "metadata": {},
   "outputs": [],
   "source": [
    "pyautogui.move(100,0,duration=1)\n",
    "pyautogui.move(0,100)\n",
    "pyautogui.move(-100,0)\n",
    "pyautogui.move(0,-100, duration=1)\n",
    "\n",
    "\n"
   ]
  },
  {
   "cell_type": "code",
   "execution_count": 34,
   "id": "2929617d-9e93-4088-ab86-93a786db79cf",
   "metadata": {},
   "outputs": [
    {
     "data": {
      "text/plain": [
       "Point(x=1471, y=102)"
      ]
     },
     "execution_count": 34,
     "metadata": {},
     "output_type": "execute_result"
    }
   ],
   "source": [
    "pyautogui.position()"
   ]
  },
  {
   "cell_type": "markdown",
   "id": "60288f26-325c-4b98-8c9c-52cda3aea461",
   "metadata": {},
   "source": [
    "<font style=\"font-family:'roman'; font-size:15px\" color='green'>Current position of cursor</font>\n",
    "\n"
   ]
  },
  {
   "cell_type": "code",
   "execution_count": 94,
   "id": "98cc61bc-af19-42f0-91c6-433cb106c495",
   "metadata": {},
   "outputs": [],
   "source": [
    "time.sleep(1)\n",
    "\n",
    "pyautogui.click(232,103,button='left') #click combines moveto and then clicks\n",
    "pyautogui.click(1139,100,button='left')\n"
   ]
  },
  {
   "cell_type": "code",
   "execution_count": 128,
   "id": "a1709943-8be6-4e87-947e-bfda8a9afaf6",
   "metadata": {},
   "outputs": [],
   "source": [
    "time.sleep(5)\n",
    "\n",
    "distance=300\n",
    "change=20\n",
    "\n",
    "pyautogui.click()\n",
    "\n",
    "while distance>0:\n",
    "    pyautogui.drag(distance,0,duration=0, button='left')\n",
    "    \n",
    "    distance+=-change\n",
    "    pyautogui.drag(0,distance,duration=0, button='left')\n",
    "    pyautogui.drag(-distance,0,duration=0, button='left')\n",
    "    \n",
    "    distance+=-change\n",
    "    pyautogui.drag(0,-distance,duration=0, button='left')\n",
    "\n",
    "    \n"
   ]
  },
  {
   "cell_type": "code",
   "execution_count": 154,
   "id": "c22a7019-5975-425c-9090-1a8a9f53f294",
   "metadata": {},
   "outputs": [],
   "source": [
    "time.sleep(5)\n",
    "\n",
    "distance=300\n",
    "change=20\n",
    "\n",
    "pyautogui.click()\n",
    "\n",
    "while distance>0:\n",
    "    pyautogui.mouseDown(button='left')\n",
    "    \n",
    "    pyautogui.move(distance,0)\n",
    "    \n",
    "    distance-=change\n",
    "    pyautogui.move(0,distance,0)\n",
    "    pyautogui.move(-distance,0,0)\n",
    "    \n",
    "    distance-=change\n",
    "    pyautogui.move(0,-distance,0)\n",
    "    \n",
    "    pyautogui.mouseUp(button='left')\n",
    "    \n",
    "\n"
   ]
  },
  {
   "cell_type": "code",
   "execution_count": 152,
   "id": "a72aa134-f004-4a78-8036-578992d0baf2",
   "metadata": {},
   "outputs": [],
   "source": [
    "time.sleep(5)\n",
    "\n",
    "n=9\n",
    "r=100\n",
    "angles=np.linspace(0,2*np.pi, n)\n",
    "sines=pyautogui.position()[1]+-r*np.sin(angles)\n",
    "coses=pyautogui.position()[0]+r*np.cos(angles)\n",
    "\n",
    "pyautogui.click()\n",
    "\n",
    "for (i,j) in zip(coses,sines):\n",
    "    pyautogui.dragTo(i,j,button='left')\n"
   ]
  },
  {
   "cell_type": "markdown",
   "id": "cef2999b-5939-40de-bcab-f2d671d2d540",
   "metadata": {},
   "source": [
    "<font style=\"font-family:'roman'; font-size:15px\" color='green'>Making a n-1 sided regular polygon</font>\n",
    "\n"
   ]
  },
  {
   "cell_type": "code",
   "execution_count": 10,
   "id": "e0972564-1b3e-456f-bc0e-d22dc7ea9f77",
   "metadata": {},
   "outputs": [
    {
     "data": {
      "text/plain": [
       "RGB(red=245, green=245, blue=245)"
      ]
     },
     "execution_count": 10,
     "metadata": {},
     "output_type": "execute_result"
    }
   ],
   "source": [
    "im=pyautogui.screenshot()\n",
    "\n",
    "im.save(\"./image.png\")\n",
    "time.sleep(5)\n",
    "\n",
    "pos=pyautogui.position()\n",
    "pyautogui.pixel(2*pos[0],2*pos[1]) #feed two * positions into pixel to get rgb of pixel"
   ]
  },
  {
   "cell_type": "code",
   "execution_count": 10,
   "id": "ca790297-0433-45cf-a01a-7d39cf127d84",
   "metadata": {},
   "outputs": [
    {
     "name": "stdout",
     "output_type": "stream",
     "text": [
      "0\n",
      "(1311.0, 123.0, 32.0, 30.0)\n"
     ]
    }
   ],
   "source": [
    "i=0\n",
    "box=None\n",
    "while not box:\n",
    "    print(i)\n",
    "    i+=1\n",
    "    try:\n",
    "        box=pyautogui.locateOnScreen(\"./image.png\")\n",
    "    except:\n",
    "        box=None\n",
    "\n",
    "box=tuple([x/2 for x in box])\n",
    "print(box)\n",
    "\n",
    "pyautogui.click(box)\n",
    "pyautogui.click(\"./image.png\") #doesn't work due to *2 requirement"
   ]
  },
  {
   "cell_type": "code",
   "execution_count": 38,
   "id": "94c2962e-08a3-4ff8-a54b-737b374f0a40",
   "metadata": {},
   "outputs": [],
   "source": [
    "time.sleep(5)\n",
    "pyautogui.click(1471,102,1)\n",
    "pyautogui.write(\"Hello World!\", 0.01)\n",
    "pyautogui.write(['left','left','a','b','return'])"
   ]
  },
  {
   "cell_type": "code",
   "execution_count": null,
   "id": "fc3cd843-9573-4fe3-83d3-82df34782352",
   "metadata": {},
   "outputs": [],
   "source": []
  },
  {
   "cell_type": "code",
   "execution_count": null,
   "id": "070203d0-7db3-49bc-ae62-6ec850a199c7",
   "metadata": {},
   "outputs": [],
   "source": [
    "\n",
    "# for i in range(100):\n",
    "#     pyautogui.move(100,0,0)\n",
    "#     pyautogui.move(0,100,0)\n",
    "#     pyautogui.move(-100,0,0)\n",
    "#     pyautogui.move(0,-100,0)\n",
    "\n",
    "# time.sleep(5)\n",
    "print(pyautogui.position())\n",
    "\n",
    "# pyautogui.click(button='left')\n",
    "pyautogui.write(\"#Hello World,#Hello World, My name is Vidush Jindal\")\n",
    "#Hello World,#hello world, my name is vidush \n",
    "3Hello World,#Hello World, My name is Vidush Jindal\n",
    "# pos=pyautogui.position()\n",
    "# distance=100\n",
    "# change=5\n",
    "\n",
    "# pyautogui.click(button='left')\n",
    "# pyautogui.scroll(-5)\n",
    "# while distance>0:\n",
    "    \n",
    "#     pyautogui.drag(distance,0,duration=0.5,button='left')\n",
    "#     distance+=-change\n",
    "#     pyautogui.drag(0,distance,duration=0.5,button='left')\n",
    "\n",
    "#     pyautogui.drag(-distance,0,duration=0.5,button='left')\n",
    "#     distance+=-change\n",
    "#     pyautogui.drag(0,-distance,duration=0.5,button='left')\n",
    "\n",
    "\n",
    "# pyautogui.mouseInfo()\n",
    "# pyautogui.moveTo(pos)"
   ]
  },
  {
   "cell_type": "code",
   "execution_count": null,
   "id": "30c12d0a-a433-4da2-ab58-e23bb9dd8674",
   "metadata": {},
   "outputs": [],
   "source": []
  }
 ],
 "metadata": {
  "kernelspec": {
   "display_name": "Python 3 (ipykernel)",
   "language": "python",
   "name": "python3"
  },
  "language_info": {
   "codemirror_mode": {
    "name": "ipython",
    "version": 3
   },
   "file_extension": ".py",
   "mimetype": "text/x-python",
   "name": "python",
   "nbconvert_exporter": "python",
   "pygments_lexer": "ipython3",
   "version": "3.12.1"
  }
 },
 "nbformat": 4,
 "nbformat_minor": 5
}
